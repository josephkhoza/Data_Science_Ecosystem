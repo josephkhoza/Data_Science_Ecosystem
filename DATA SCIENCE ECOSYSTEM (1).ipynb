{
 "cells": [
  {
   "cell_type": "markdown",
   "id": "36f109a9",
   "metadata": {},
   "source": [
    "# Data Science Tools and Ecosystem"
   ]
  },
  {
   "cell_type": "markdown",
   "id": "3615b813",
   "metadata": {},
   "source": [
    "## Introduction ##"
   ]
  },
  {
   "cell_type": "markdown",
   "id": "0d3c719c",
   "metadata": {},
   "source": [
    "In this notebook, data science tools and ecosystem  are summarized"
   ]
  },
  {
   "cell_type": "markdown",
   "id": "12eaa6ec",
   "metadata": {},
   "source": [
    "## Objectives ##"
   ]
  },
  {
   "cell_type": "markdown",
   "id": "96c905eb",
   "metadata": {},
   "source": [
    "This note book covers :\n",
    "    Commonly used libraries\n",
    "    Popular languages used by Data scientist\n",
    "    Tools used in development environment\n",
    "    Arethmetic expressions and evaluation"
   ]
  },
  {
   "cell_type": "code",
   "execution_count": null,
   "id": "56545122",
   "metadata": {},
   "outputs": [],
   "source": []
  },
  {
   "cell_type": "code",
   "execution_count": null,
   "id": "33ff8cab",
   "metadata": {},
   "outputs": [],
   "source": [
    "# Some popular languages that data scientist used are:"
   ]
  },
  {
   "cell_type": "markdown",
   "id": "6c5f64e1",
   "metadata": {},
   "source": [
    "1. Python\n",
    "2. R\n",
    "3. SQL\n",
    "4. Scala\n",
    "5. Julia\n",
    "6. Java\n",
    "7. C++"
   ]
  },
  {
   "cell_type": "code",
   "execution_count": null,
   "id": "f9a6a778",
   "metadata": {},
   "outputs": [],
   "source": []
  },
  {
   "cell_type": "code",
   "execution_count": null,
   "id": "fd483e65",
   "metadata": {},
   "outputs": [],
   "source": [
    "# some of the commonly used libraries used by data scientist include "
   ]
  },
  {
   "cell_type": "markdown",
   "id": "3b218e3a",
   "metadata": {},
   "source": [
    "1. Numpy\n",
    "2. Pandas\n",
    "3. Seaborn\n",
    "4. metplotlib\n",
    "5. scikitlearn\n",
    "6. ggplot\n",
    "7. caret\n",
    "8. stringr\n",
    "9. dplyr"
   ]
  },
  {
   "cell_type": "code",
   "execution_count": null,
   "id": "2c2b4681",
   "metadata": {},
   "outputs": [],
   "source": []
  },
  {
   "cell_type": "code",
   "execution_count": null,
   "id": "2c379c3c",
   "metadata": {},
   "outputs": [],
   "source": [
    "#Table of data science tool in model development environment"
   ]
  },
  {
   "cell_type": "markdown",
   "id": "a09baa51",
   "metadata": {},
   "source": [
    "|Data science Tools|\n",
    "|---------------|\n",
    "|Seldon|\n",
    "|Tensorflow|\n",
    "|Python|\n",
    "|Hadoop|\n",
    "|RStudio|"
   ]
  },
  {
   "cell_type": "code",
   "execution_count": null,
   "id": "2602dd25",
   "metadata": {},
   "outputs": [],
   "source": []
  },
  {
   "cell_type": "markdown",
   "id": "20bdc420",
   "metadata": {},
   "source": [
    "### Below are a few examples of evaluating arethmentic expresssions in python"
   ]
  },
  {
   "cell_type": "code",
   "execution_count": null,
   "id": "74174f49",
   "metadata": {},
   "outputs": [],
   "source": [
    "1. First expression = (x+y)\n",
    "2. Second expression = (x-y)\n",
    "3. Third expression = (x/y)\n",
    "4. Fourth expression = (x*y)"
   ]
  },
  {
   "cell_type": "code",
   "execution_count": null,
   "id": "e29d6965",
   "metadata": {},
   "outputs": [],
   "source": []
  },
  {
   "cell_type": "code",
   "execution_count": null,
   "id": "aa9aacdd",
   "metadata": {},
   "outputs": [],
   "source": [
    " # This is a simple arethmetic expression to multiply and add integers"
   ]
  },
  {
   "cell_type": "code",
   "execution_count": 46,
   "id": "e4dd6fda",
   "metadata": {},
   "outputs": [
    {
     "data": {
      "text/plain": [
       "17"
      ]
     },
     "execution_count": 46,
     "metadata": {},
     "output_type": "execute_result"
    }
   ],
   "source": [
    "(3*4)+5"
   ]
  },
  {
   "cell_type": "code",
   "execution_count": null,
   "id": "865746b5",
   "metadata": {},
   "outputs": [],
   "source": []
  },
  {
   "cell_type": "code",
   "execution_count": null,
   "id": "7a847401",
   "metadata": {},
   "outputs": [],
   "source": [
    "# this will convert 200 minutes into hours by dividing by 60"
   ]
  },
  {
   "cell_type": "code",
   "execution_count": 71,
   "id": "3c5c336a",
   "metadata": {},
   "outputs": [],
   "source": [
    "hours = minutes // 60"
   ]
  },
  {
   "cell_type": "code",
   "execution_count": 72,
   "id": "06ecd8a5",
   "metadata": {},
   "outputs": [],
   "source": [
    "minutes = 200"
   ]
  },
  {
   "cell_type": "code",
   "execution_count": 73,
   "id": "25cf9c4a",
   "metadata": {},
   "outputs": [],
   "source": [
    "hours = 200 // 60"
   ]
  },
  {
   "cell_type": "code",
   "execution_count": 74,
   "id": "d1d5ee47",
   "metadata": {},
   "outputs": [
    {
     "name": "stdout",
     "output_type": "stream",
     "text": [
      "3\n"
     ]
    }
   ],
   "source": [
    "print(hours)"
   ]
  },
  {
   "cell_type": "code",
   "execution_count": null,
   "id": "9c963ba8",
   "metadata": {},
   "outputs": [],
   "source": []
  },
  {
   "cell_type": "markdown",
   "id": "b72830c0",
   "metadata": {},
   "source": [
    "## Author"
   ]
  },
  {
   "cell_type": "markdown",
   "id": "c2358da5",
   "metadata": {},
   "source": [
    "Joseph Khoza"
   ]
  },
  {
   "cell_type": "code",
   "execution_count": null,
   "id": "f54b98c1",
   "metadata": {},
   "outputs": [],
   "source": []
  },
  {
   "cell_type": "code",
   "execution_count": null,
   "id": "376a0c51",
   "metadata": {},
   "outputs": [],
   "source": []
  },
  {
   "cell_type": "code",
   "execution_count": null,
   "id": "a4fdba3a",
   "metadata": {},
   "outputs": [],
   "source": []
  }
 ],
 "metadata": {
  "kernelspec": {
   "display_name": "Python 3 (ipykernel)",
   "language": "python",
   "name": "python3"
  },
  "language_info": {
   "codemirror_mode": {
    "name": "ipython",
    "version": 3
   },
   "file_extension": ".py",
   "mimetype": "text/x-python",
   "name": "python",
   "nbconvert_exporter": "python",
   "pygments_lexer": "ipython3",
   "version": "3.11.3"
  }
 },
 "nbformat": 4,
 "nbformat_minor": 5
}
